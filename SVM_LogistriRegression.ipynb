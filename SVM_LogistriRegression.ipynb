{
 "cells": [
  {
   "cell_type": "code",
   "execution_count": 1,
   "id": "artistic-painting",
   "metadata": {},
   "outputs": [],
   "source": [
    "import warnings\n",
    "\n",
    "warnings.filterwarnings('ignore')\n",
    "\n",
    "import numpy as np\n",
    "from sklearn.base import BaseEstimator\n",
    "\n",
    "import time\n",
    "\n",
    "from sklearn.feature_extraction.text import TfidfVectorizer\n",
    "from sklearn.preprocessing import Normalizer\n",
    "from sklearn.pipeline import make_pipeline\n",
    "from sklearn.feature_selection import SelectKBest\n",
    "from sklearn.metrics import accuracy_score\n",
    "from sklearn.model_selection import train_test_split\n",
    "import scipy as sp"
   ]
  },
  {
   "cell_type": "markdown",
   "id": "historical-footage",
   "metadata": {},
   "source": [
    "Code for reading the data"
   ]
  },
  {
   "cell_type": "code",
   "execution_count": 2,
   "id": "silver-daughter",
   "metadata": {},
   "outputs": [],
   "source": [
    "def read_data(corpus_file):\n",
    "    X = []\n",
    "    Y = []\n",
    "    Y_multi = []\n",
    "    with open(corpus_file, encoding='utf-8') as f:\n",
    "        for line in f:\n",
    "            y_multi, y, _, x = line.split(maxsplit=3)\n",
    "            X.append(x.strip())\n",
    "            Y.append(y)\n",
    "            Y_multi.append(y_multi)\n",
    "    return X, Y , Y_multi"
   ]
  },
  {
   "cell_type": "code",
   "execution_count": 3,
   "id": "previous-south",
   "metadata": {},
   "outputs": [],
   "source": [
    "def run_test(model, multi = False):\n",
    "    # Read all the documents.\n",
    "    X, Y, Y_multi = read_data('data/all_sentiment_shuffled.txt')\n",
    "\n",
    "    # Split into training and test parts.\n",
    "    if  not multi: \n",
    "        Xtrain, Xtest, Ytrain, Ytest = train_test_split(X, Y, test_size=0.2,\n",
    "                                                        random_state=0)\n",
    "    else:\n",
    "        Xtrain, Xtest, Ytrain, Ytest = train_test_split(X, Y_multi, test_size=0.2,\n",
    "                                                        random_state=0)\n",
    "\n",
    "    # Set up the preprocessing steps and the classifier.\n",
    "    pipeline = make_pipeline(\n",
    "        TfidfVectorizer(),\n",
    "        SelectKBest(k=1000),\n",
    "        Normalizer(),\n",
    "\n",
    "        model  \n",
    "    )\n",
    "\n",
    "    # Train the classifier.\n",
    "    t0 = time.time()\n",
    "    pipeline.fit(Xtrain, Ytrain)\n",
    "    t1 = time.time()\n",
    "    print('Training time: {:.2f} sec.'.format(t1-t0))\n",
    "\n",
    "    # Evaluate on the test set.\n",
    "    Yguess = pipeline.predict(Xtest)\n",
    "    print('Accuracy: {:.4f}.'.format(accuracy_score(Ytest, Yguess)))"
   ]
  },
  {
   "cell_type": "markdown",
   "id": "behavioral-standard",
   "metadata": {},
   "source": [
    "Start by defining the default Linear classifier"
   ]
  },
  {
   "cell_type": "code",
   "execution_count": 4,
   "id": "laughing-excellence",
   "metadata": {},
   "outputs": [],
   "source": [
    "class LinearClassifier(BaseEstimator):\n",
    "   \n",
    "    def decision_function(self, X):\n",
    "        return X.dot(self.w)\n",
    "\n",
    "    def predict(self, X):\n",
    "        scores = self.decision_function(X)\n",
    "        out = np.select([scores >= 0.0, scores < 0.0],\n",
    "                        [self.positive_class,\n",
    "                         self.negative_class])\n",
    "        return out\n",
    "\n",
    "    def find_classes(self, Y):\n",
    "        classes = sorted(set(Y))\n",
    "        if len(classes) != 2:\n",
    "            raise Exception(\"this does not seem to be a 2-class problem\")\n",
    "        self.positive_class = classes[1]\n",
    "        self.negative_class = classes[0]\n",
    "\n",
    "    def encode_outputs(self, Y):\n",
    "        return np.array([1 if y == self.positive_class else -1 for y in Y])"
   ]
  },
  {
   "cell_type": "markdown",
   "id": "complex-panel",
   "metadata": {},
   "source": [
    "### SVM multiple classes"
   ]
  },
  {
   "cell_type": "code",
   "execution_count": 5,
   "id": "portable-smell",
   "metadata": {},
   "outputs": [],
   "source": [
    "class SVM(LinearClassifier):\n",
    "\n",
    "    def __init__(self, n_iter=10, lambd=0.01):\n",
    "        \n",
    "        self.n_iter = n_iter\n",
    "        self.lambd = lambd\n",
    "\n",
    "    def predict(self, X):\n",
    "        if not isinstance(X, np.ndarray):\n",
    "            X = X.toarray()\n",
    "        \n",
    "        predictions = []\n",
    "        for x in X:\n",
    "            predictions.append( self.classes[np.argmax(np.matmul(self.w, x))] )\n",
    "        return predictions\n",
    "\n",
    "    def fit(self, X, Y):\n",
    "\n",
    "        self.classes = list(set(Y))\n",
    "        \n",
    "        # If necessary, convert the sparse matrix returned by a vectorizer\n",
    "        # into a normal NumPy matrix.\n",
    "        if not isinstance(X, np.ndarray):\n",
    "            X = X.toarray()\n",
    "\n",
    "        # Initialize the weight vector to all zeros.\n",
    "        n_features = X.shape[1]\n",
    "        self.w = np.zeros((len(self.classes), n_features))\n",
    "        t = 0\n",
    "        for i in range(self.n_iter):\n",
    "            for x, y in zip(X, Y):\n",
    "                t += 1\n",
    "                \n",
    "                step_lenght = 1 / (self.lambd * t)  \n",
    "\n",
    "                y_i = self.classes.index(y)   \n",
    "                \n",
    "                z = np.matmul(self.w, x)\n",
    "                \n",
    "                # Instead of adding 1 to every non y_i column, we just remove 1 here. \n",
    "                # Exact value does not matter since we are just looking at the max index.\n",
    "                z[y_i] = z[y_i] - 1\n",
    "                \n",
    "                y_hat = np.argmax(z)\n",
    "                \n",
    "                delta_loss = np.zeros((len(self.classes), n_features))\n",
    "                delta_loss[y_hat,:] = x  # This is the phi(x_i, y_hat) in the paper\n",
    "                delta_loss[y_i,:] = -x   # This is the phi(x_i, y_i) in the paper\n",
    "\n",
    "                gradient = self.lambd * self.w + delta_loss\n",
    "                \n",
    "                self.w = self.w - step_lenght * gradient\n",
    "  "
   ]
  },
  {
   "cell_type": "markdown",
   "id": "vital-worthy",
   "metadata": {},
   "source": [
    "### Logistic Regression multiple classes"
   ]
  },
  {
   "cell_type": "code",
   "execution_count": 6,
   "id": "pregnant-central",
   "metadata": {},
   "outputs": [],
   "source": [
    "class logisticRegression(LinearClassifier):\n",
    "\n",
    "    def __init__(self, n_iter=10, lambd=0.001):\n",
    "        \n",
    "        self.n_iter = n_iter\n",
    "        self.lambd = lambd\n",
    "\n",
    "    def predict(self, X):\n",
    "        if not isinstance(X, np.ndarray):\n",
    "            X = X.toarray()\n",
    "        \n",
    "        predictions = []\n",
    "        for x in X:\n",
    "            predictions.append( self.classes[np.argmax(np.matmul(self.w, x))] )\n",
    "        return predictions\n",
    "\n",
    "    def fit(self, X, Y):\n",
    "\n",
    "        self.classes = list(set(Y))\n",
    "        # If necessary, convert the sparse matrix returned by a vectorizer\n",
    "        # into a normal NumPy matrix.\n",
    "        if not isinstance(X, np.ndarray):\n",
    "            X = X.toarray()\n",
    "\n",
    "        # Initialize the weight vector to all zeros.\n",
    "        n_features = X.shape[1]\n",
    "        self.w = np.random.rand(len(self.classes), n_features)\n",
    "\n",
    "        t = 0\n",
    "        for i in range(self.n_iter):\n",
    "            for x, y in zip(X, Y):\n",
    "                t += 1\n",
    "                \n",
    "                step_lenght = 1 / (self.lambd * t)  \n",
    "\n",
    "                y_i = self.classes.index(y)   \n",
    "                \n",
    "                z = np.matmul(self.w, x)                \n",
    "                p = sp.special.softmax(z)\n",
    "                \n",
    "                phi_y_i = np.zeros((len(self.classes), n_features))\n",
    "                phi_y_i[y_i,:] = x\n",
    "                \n",
    "                subgradient = np.zeros((len(self.classes), n_features))\n",
    "                subgradient += - phi_y_i\n",
    "                for r in range(len(self.classes)):\n",
    "                    \n",
    "                    phi_r = np.zeros((len(self.classes), n_features))\n",
    "                    phi_r[r,:] = x\n",
    "                    \n",
    "                    subgradient += p[r] * phi_r\n",
    "                \n",
    "                self.w = (1 - step_lenght * self.lambd) * self.w - step_lenght * subgradient"
   ]
  },
  {
   "cell_type": "code",
   "execution_count": 7,
   "id": "scientific-humidity",
   "metadata": {},
   "outputs": [
    {
     "name": "stdout",
     "output_type": "stream",
     "text": [
      "Training time: 7.20 sec.\n",
      "Accuracy: 0.9043.\n"
     ]
    }
   ],
   "source": [
    "run_test(SVM(), multi = True)"
   ]
  },
  {
   "cell_type": "code",
   "execution_count": 8,
   "id": "tribal-coral",
   "metadata": {},
   "outputs": [
    {
     "name": "stdout",
     "output_type": "stream",
     "text": [
      "Training time: 24.49 sec.\n",
      "Accuracy: 0.9148.\n"
     ]
    }
   ],
   "source": [
    "run_test(logisticRegression(), multi = True)"
   ]
  }
 ],
 "metadata": {
  "kernelspec": {
   "display_name": "Python 3",
   "language": "python",
   "name": "python3"
  },
  "language_info": {
   "codemirror_mode": {
    "name": "ipython",
    "version": 3
   },
   "file_extension": ".py",
   "mimetype": "text/x-python",
   "name": "python",
   "nbconvert_exporter": "python",
   "pygments_lexer": "ipython3",
   "version": "3.9.1"
  }
 },
 "nbformat": 4,
 "nbformat_minor": 5
}
